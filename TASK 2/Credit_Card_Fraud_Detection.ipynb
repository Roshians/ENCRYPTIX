{
  "nbformat": 4,
  "nbformat_minor": 0,
  "metadata": {
    "colab": {
      "provenance": []
    },
    "kernelspec": {
      "name": "python3",
      "display_name": "Python 3"
    },
    "language_info": {
      "name": "python"
    }
  },
  "cells": [
    {
      "cell_type": "code",
      "execution_count": null,
      "metadata": {
        "id": "DO3cSeOT9aEg"
      },
      "outputs": [],
      "source": [
        "import datetime\n",
        "import numpy as np\n",
        "import pandas as pd\n",
        "import seaborn as sns\n",
        "from sklearn.model_selection import train_test_split\n",
        "from sklearn.svm import SVC\n",
        "from sklearn.metrics import accuracy_score\n",
        "from sklearn.preprocessing import LabelEncoder"
      ]
    },
    {
      "cell_type": "code",
      "source": [
        "train_data = pd.read_csv(\"/kaggle/input/fraud-detection/fraudTrain.csv\")"
      ],
      "metadata": {
        "id": "Rln0anjE9rJf"
      },
      "execution_count": null,
      "outputs": []
    },
    {
      "cell_type": "code",
      "source": [
        "train_data.info()"
      ],
      "metadata": {
        "id": "wV27vwKV9stP"
      },
      "execution_count": null,
      "outputs": []
    },
    {
      "cell_type": "code",
      "source": [
        "train_data.describe()"
      ],
      "metadata": {
        "id": "FwJ9u75k9wGt"
      },
      "execution_count": null,
      "outputs": []
    },
    {
      "cell_type": "code",
      "source": [
        "train_data.dtypes"
      ],
      "metadata": {
        "id": "tjqvYTmZ96ON"
      },
      "execution_count": null,
      "outputs": []
    },
    {
      "cell_type": "code",
      "source": [
        "train_data.columns"
      ],
      "metadata": {
        "id": "BipIRN23974q"
      },
      "execution_count": null,
      "outputs": []
    },
    {
      "cell_type": "code",
      "source": [
        "train_data[\"trans_date_trans_time\"] = pd.to_datetime(train_data[\"trans_date_trans_time\"])\n",
        "train_data[\"dob\"] = pd.to_datetime(train_data[\"dob\"])\n",
        "train_data.drop(columns=['Unnamed: 0','cc_num','first', 'last', 'street', 'city', 'state', 'zip', 'dob', 'trans_num','trans_date_trans_time'],inplace=True)\n"
      ],
      "metadata": {
        "id": "2yMLBVst994U"
      },
      "execution_count": null,
      "outputs": []
    },
    {
      "cell_type": "code",
      "source": [
        "#Drop all rows that contain missing values\n",
        "train_data.dropna(ignore_index=True)\n",
        "train_data"
      ],
      "metadata": {
        "id": "9gUKC6-E-A6S"
      },
      "execution_count": null,
      "outputs": []
    },
    {
      "cell_type": "code",
      "source": [
        "train_data.dropna(ignore_index=True)"
      ],
      "metadata": {
        "id": "ODWynH1b-CwV"
      },
      "execution_count": null,
      "outputs": []
    },
    {
      "cell_type": "code",
      "source": [
        "encoder = LabelEncoder()\n",
        "train_data[\"merchant\"] = encoder.fit_transform(train_data[\"merchant\"])\n",
        "train_data[\"category\"] = encoder.fit_transform(train_data[\"category\"])\n",
        "train_data[\"gender\"] = encoder.fit_transform(train_data[\"gender\"])\n",
        "train_data[\"job\"] = encoder.fit_transform(train_data[\"job\"])"
      ],
      "metadata": {
        "id": "tQIBuLYP-Fso"
      },
      "execution_count": null,
      "outputs": []
    },
    {
      "cell_type": "code",
      "source": [
        "X = train_data.drop(columns=[\"is_fraud\"], inplace = False)\n",
        "Y = train_data[\"is_fraud\"]\n",
        "model = SVC()\n",
        "model.fit(X, Y)\n",
        "model.score(X, Y)"
      ],
      "metadata": {
        "id": "yKZ7K7aZ-JQn"
      },
      "execution_count": null,
      "outputs": []
    },
    {
      "cell_type": "code",
      "source": [
        "test_data = pd.read_csv(\"/kaggle/input/fraud-detection/fraudTest.csv\")\n",
        "test_data"
      ],
      "metadata": {
        "id": "lCxmS8e8-OYO"
      },
      "execution_count": null,
      "outputs": []
    },
    {
      "cell_type": "code",
      "source": [
        "test_data.drop(columns=['Unnamed: 0','cc_num','first', 'last', 'street', 'city', 'state', 'zip', 'dob', 'trans_num','trans_date_trans_time'],inplace=True)\n",
        "\n",
        "encoder = LabelEncoder()\n",
        "test_data[\"merchant\"] = encoder.fit_transform(test_data[\"merchant\"])\n",
        "test_data[\"category\"] = encoder.fit_transform(test_data[\"category\"])\n",
        "test_data[\"gender\"] = encoder.fit_transform(test_data[\"gender\"])\n",
        "test_data[\"job\"] = encoder.fit_transform(test_data[\"job\"])"
      ],
      "metadata": {
        "id": "LA0ancc9-S7Y"
      },
      "execution_count": null,
      "outputs": []
    },
    {
      "cell_type": "code",
      "source": [
        "X_test = test_data.drop(columns=[\"is_fraud\"], inplace = False)\n",
        "Y_test = test_data[\"is_fraud\"]\n",
        "y_pred = model.predict(X_test)\n",
        "accuracy = accuracy_score(test_data['is_fraud'],y_pred)\n",
        "accuracy"
      ],
      "metadata": {
        "id": "hitTic8i-eQO"
      },
      "execution_count": null,
      "outputs": []
    }
  ]
}